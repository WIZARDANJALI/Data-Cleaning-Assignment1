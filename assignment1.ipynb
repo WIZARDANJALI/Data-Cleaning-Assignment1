{
 "cells": [
  {
   "cell_type": "code",
   "execution_count": null,
   "id": "b6d9c2be",
   "metadata": {},
   "outputs": [],
   "source": [
    "# Assignment 1 - Data Cleaning\n",
    "# Student: Anjali Kamthe\n",
    "\n",
    "import pandas as pd\n",
    "import numpy as np\n",
    "import re\n"
   ]
  },
  {
   "cell_type": "code",
   "execution_count": null,
   "id": "96230a84",
   "metadata": {},
   "outputs": [],
   "source": [
    "df = pd.read_csv(\"customers.csv\")\n",
    "print(\"🔹 Original Data:\")\n",
    "df\n"
   ]
  },
  {
   "cell_type": "code",
   "execution_count": null,
   "id": "88b5aa42",
   "metadata": {},
   "outputs": [],
   "source": [
    "df = df.drop_duplicates()\n",
    "print(\"✅ Duplicates removed.\")\n",
    "df\n"
   ]
  },
  {
   "cell_type": "code",
   "execution_count": null,
   "id": "75934b1c",
   "metadata": {},
   "outputs": [],
   "source": [
    "def is_valid_email(email):\n",
    "    if pd.isna(email):\n",
    "        return False\n",
    "    return re.match(r\"[^@]+@[^@]+\\.[^@]+\", str(email)) is not None\n",
    "\n",
    "df['email'] = df['email'].apply(lambda x: x if is_valid_email(x) else np.nan)\n",
    "\n",
    "print(\"✅ Invalid emails replaced with NaN.\")\n",
    "df\n"
   ]
  },
  {
   "cell_type": "code",
   "execution_count": null,
   "id": "fd6542e9",
   "metadata": {},
   "outputs": [],
   "source": [
    "valid_ages = df['age'].dropna()\n",
    "valid_ages = valid_ages[valid_ages > 0]\n",
    "median_age = valid_ages.median()\n",
    "\n",
    "df['age'] = df['age'].apply(lambda x: median_age if pd.isna(x) or x <= 0 else x)\n",
    "\n",
    "print(f\"✅ Ages cleaned. Median Age used: {median_age}\")\n",
    "df\n"
   ]
  },
  {
   "cell_type": "code",
   "execution_count": null,
   "id": "cb92435b",
   "metadata": {},
   "outputs": [],
   "source": [
    "df['name'] = df['name'].fillna('Aditya')\n",
    "df['city'] = df['city'].fillna('Pune')\n",
    "\n",
    "print(\"✅ Missing names replaced with 'Aditya' and cities with 'Pune'.\")\n",
    "df\n"
   ]
  },
  {
   "cell_type": "code",
   "execution_count": null,
   "id": "d2e392c2",
   "metadata": {},
   "outputs": [],
   "source": [
    "df['email'] = df['email'].fillna('abc@gmail.com')\n",
    "\n",
    "print(\"✅ Missing emails filled with 'abc@gmail.com'.\")\n",
    "df\n"
   ]
  },
  {
   "cell_type": "code",
   "execution_count": null,
   "id": "6ab812fe",
   "metadata": {},
   "outputs": [],
   "source": [
    "df.to_csv(\"customers_cleaned.csv\", index=False)\n",
    "\n",
    "print(\"🎉 Data cleaning completed. Cleaned file saved as 'customers_cleaned.csv'.\")\n",
    "df\n"
   ]
  }
 ],
 "metadata": {
  "language_info": {
   "name": "python"
  }
 },
 "nbformat": 4,
 "nbformat_minor": 5
}
